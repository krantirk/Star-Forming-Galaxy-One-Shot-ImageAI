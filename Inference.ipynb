{
 "cells": [
  {
   "cell_type": "code",
   "execution_count": 3,
   "metadata": {},
   "outputs": [
    {
     "name": "stdout",
     "output_type": "stream",
     "text": [
      "star forming galaxy  :  58.96176099777222  :  [302, 82, 349, 151]\n",
      "star forming galaxy  :  55.385130643844604  :  [357, 79, 396, 167]\n",
      "star forming galaxy  :  61.74473166465759  :  [648, 1159, 697, 1231]\n",
      "star forming galaxy  :  48.08017015457153  :  [639, 1169, 678, 1221]\n",
      "star forming galaxy  :  54.448312520980835  :  [390, 98, 417, 122]\n",
      "star forming galaxy  :  49.92808699607849  :  [513, 95, 535, 128]\n",
      "star forming galaxy  :  45.24889886379242  :  [707, 94, 739, 124]\n",
      "star forming galaxy  :  54.28445339202881  :  [1078, 119, 1101, 146]\n",
      "star forming galaxy  :  50.062233209609985  :  [342, 188, 372, 222]\n",
      "star forming galaxy  :  46.5093731880188  :  [269, 242, 292, 270]\n",
      "star forming galaxy  :  52.05868482589722  :  [70, 267, 93, 298]\n",
      "star forming galaxy  :  51.278942823410034  :  [191, 264, 224, 298]\n",
      "star forming galaxy  :  46.05457782745361  :  [245, 281, 270, 324]\n",
      "star forming galaxy  :  47.60628044605255  :  [121, 306, 141, 349]\n",
      "star forming galaxy  :  57.221949100494385  :  [172, 314, 197, 345]\n",
      "star forming galaxy  :  62.58827447891235  :  [319, 328, 344, 375]\n",
      "star forming galaxy  :  59.20307636260986  :  [710, 358, 737, 402]\n",
      "star forming galaxy  :  51.16930603981018  :  [1251, 363, 1282, 396]\n",
      "star forming galaxy  :  45.956143736839294  :  [1078, 404, 1103, 452]\n",
      "star forming galaxy  :  62.0952308177948  :  [194, 436, 221, 465]\n",
      "star forming galaxy  :  50.32960772514343  :  [490, 431, 511, 475]\n",
      "star forming galaxy  :  52.535414695739746  :  [588, 439, 611, 466]\n",
      "star forming galaxy  :  45.79864740371704  :  [960, 462, 977, 494]\n",
      "star forming galaxy  :  64.88133072853088  :  [591, 488, 614, 514]\n",
      "star forming galaxy  :  54.1626513004303  :  [223, 503, 242, 547]\n",
      "star forming galaxy  :  49.57475662231445  :  [249, 512, 269, 540]\n",
      "star forming galaxy  :  52.74471640586853  :  [510, 508, 543, 545]\n",
      "star forming galaxy  :  50.5085825920105  :  [913, 509, 929, 546]\n",
      "star forming galaxy  :  51.39414072036743  :  [570, 557, 583, 593]\n",
      "star forming galaxy  :  55.60447573661804  :  [1038, 557, 1054, 590]\n",
      "star forming galaxy  :  66.33522510528564  :  [1060, 557, 1079, 589]\n",
      "star forming galaxy  :  49.572595953941345  :  [910, 607, 932, 638]\n",
      "star forming galaxy  :  56.720954179763794  :  [836, 636, 854, 664]\n",
      "star forming galaxy  :  50.456976890563965  :  [1080, 657, 1107, 690]\n",
      "star forming galaxy  :  49.95351433753967  :  [1129, 682, 1154, 711]\n",
      "star forming galaxy  :  57.514381408691406  :  [1131, 751, 1156, 785]\n",
      "star forming galaxy  :  50.93110203742981  :  [859, 827, 882, 862]\n",
      "star forming galaxy  :  62.725019454956055  :  [292, 849, 315, 887]\n",
      "star forming galaxy  :  52.48139500617981  :  [1259, 848, 1273, 888]\n",
      "star forming galaxy  :  52.25456357002258  :  [488, 927, 519, 955]\n",
      "star forming galaxy  :  53.405922651290894  :  [513, 930, 539, 956]\n",
      "star forming galaxy  :  51.20949149131775  :  [322, 943, 340, 986]\n",
      "star forming galaxy  :  54.21953797340393  :  [150, 968, 172, 1006]\n",
      "star forming galaxy  :  64.48124647140503  :  [165, 971, 204, 1003]\n",
      "star forming galaxy  :  48.779016733169556  :  [732, 962, 765, 1023]\n",
      "star forming galaxy  :  49.48369860649109  :  [740, 976, 763, 1003]\n",
      "star forming galaxy  :  68.5073733329773  :  [760, 973, 792, 1003]\n",
      "star forming galaxy  :  56.982916593551636  :  [840, 990, 857, 1039]\n",
      "star forming galaxy  :  45.63439190387726  :  [861, 999, 885, 1029]\n",
      "star forming galaxy  :  49.408531188964844  :  [49, 1024, 73, 1055]\n",
      "star forming galaxy  :  53.148043155670166  :  [1081, 1044, 1104, 1082]\n",
      "star forming galaxy  :  46.593743562698364  :  [886, 1075, 908, 1102]\n",
      "star forming galaxy  :  47.83392548561096  :  [793, 1097, 813, 1122]\n",
      "star forming galaxy  :  54.206663370132446  :  [1034, 1100, 1056, 1125]\n",
      "star forming galaxy  :  60.47429442405701  :  [242, 1145, 266, 1179]\n",
      "star forming galaxy  :  50.534987449645996  :  [1230, 1144, 1247, 1177]\n",
      "star forming galaxy  :  52.732980251312256  :  [1185, 1197, 1205, 1221]\n",
      "number of objects: 57\n"
     ]
    }
   ],
   "source": [
    "from imageai.Detection.Custom import CustomObjectDetection\n",
    "\n",
    "detector = CustomObjectDetection()\n",
    "detector.setModelTypeAsYOLOv3()\n",
    "detector.setModelPath(\"galaxies/models/detection_model-ex-018--loss-0042.421.h5\")\n",
    "detector.setJsonPath(\"galaxies/json/detection_config.json\")\n",
    "detector.loadModel()\n",
    "detections = detector.detectObjectsFromImage(input_image=\"potw1827a.jpg\", output_image_path=\"yolo-detected.jpg\",minimum_percentage_probability=45)\n",
    "\n",
    "i = 0\n",
    "for detection in detections:\n",
    "    print(detection[\"name\"], \" : \", detection[\"percentage_probability\"], \" : \", detection[\"box_points\"])\n",
    "    i +=1\n",
    "\n",
    "print(f'number of objects: {int(i)}')"
   ]
  },
  {
   "cell_type": "code",
   "execution_count": null,
   "metadata": {},
   "outputs": [],
   "source": []
  }
 ],
 "metadata": {
  "kernelspec": {
   "display_name": "Python 3",
   "language": "python",
   "name": "python3"
  },
  "language_info": {
   "codemirror_mode": {
    "name": "ipython",
    "version": 3
   },
   "file_extension": ".py",
   "mimetype": "text/x-python",
   "name": "python",
   "nbconvert_exporter": "python",
   "pygments_lexer": "ipython3",
   "version": "3.7.6"
  }
 },
 "nbformat": 4,
 "nbformat_minor": 4
}
